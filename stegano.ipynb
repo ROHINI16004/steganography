{
  "nbformat": 4,
  "nbformat_minor": 0,
  "metadata": {
    "colab": {
      "provenance": []
    },
    "kernelspec": {
      "name": "python3",
      "display_name": "Python 3"
    },
    "language_info": {
      "name": "python"
    }
  },
  "cells": [
    {
      "cell_type": "code",
      "execution_count": 12,
      "metadata": {
        "colab": {
          "base_uri": "https://localhost:8080/"
        },
        "id": "k3eDgZeIeHrW",
        "outputId": "1bb2be99-a3cb-4ae6-d273-970d12668500"
      },
      "outputs": [
        {
          "output_type": "stream",
          "name": "stdout",
          "text": [
            "Enter image path (e.g., 'mypic.png'): mypic.png\n",
            "Enter secret message: hello from india\n",
            "Set a password for message: 123\n",
            "Message encoded and saved as 'lsb_encrypted_image.png'.\n",
            "Do you want to decode the image? (yes/no): yes\n",
            "Enter password to decrypt: 123\n",
            "🔎 Decoded message length (in bits): 825373498\n",
            "🖼️ Image capacity (in bits): 1769472\n",
            "Error: Decoded message length is too large or image is corrupted.\n"
          ]
        }
      ],
      "source": [
        "import cv2\n",
        "import numpy as np\n",
        "\n",
        "def text_to_bits(text):\n",
        "    return ''.join(f'{ord(c):08b}' for c in text)\n",
        "\n",
        "def bits_to_text(bits):\n",
        "    chars = [bits[i:i+8] for i in range(0, len(bits), 8)]\n",
        "    return ''.join(chr(int(b, 2)) for b in chars)\n",
        "\n",
        "def encode_lsb(image, message, password):\n",
        "    full_message = f\"{password}:{message}\"\n",
        "    binary_msg = text_to_bits(full_message)\n",
        "    msg_len = len(binary_msg)\n",
        "\n",
        "    if msg_len > image.size:\n",
        "        raise ValueError(\"Message too long to encode in image.\")\n",
        "\n",
        "    flat_img = image.flatten()\n",
        "    for i in range(msg_len):\n",
        "        flat_img[i] = np.uint8((int(flat_img[i]) & 0b11111110) | int(binary_msg[i]))\n",
        " # LSB replacement\n",
        "\n",
        "    encoded_img = flat_img.reshape(image.shape)\n",
        "    return encoded_img\n",
        "\n",
        "def decode_lsb(image):\n",
        "    flat_img = image.flatten()\n",
        "    len_bits = ''.join(str(flat_img[i] & 1) for i in range(32))\n",
        "    msg_len = int(len_bits, 2)\n",
        "    print(\"🔎 Decoded message length (in bits):\", msg_len)\n",
        "    print(\"🖼️ Image capacity (in bits):\", len(flat_img))\n",
        "    if msg_len + 32 > len(flat_img):\n",
        "        raise ValueError(\"Decoded message length is too large or image is corrupted.\")\n",
        "\n",
        "    # Now read only the number of bits that make up the message\n",
        "    bits = ''.join(str(flat_img[i + 32] & 1) for i in range(msg_len))\n",
        "\n",
        "\n",
        "    try:\n",
        "        text = bits_to_text(bits)\n",
        "        sep_index = text.find(':')\n",
        "        if sep_index == -1:\n",
        "            raise ValueError(\"No password/message separator found.\")\n",
        "\n",
        "        password, actual_message = text[:sep_index], text[sep_index + 1:]\n",
        "        return password, actual_message\n",
        "    except Exception as e:\n",
        "        raise ValueError(\"Decryption failed: Possibly wrong image or corrupted data.\")\n",
        "\n",
        "# --- Main Program ---\n",
        "img_path = input(\"Enter image path (e.g., 'mypic.png'): \")\n",
        "img = cv2.imread(img_path)\n",
        "\n",
        "if img is None:\n",
        "    raise FileNotFoundError(\"Image not found.\")\n",
        "\n",
        "message = input(\"Enter secret message: \")\n",
        "password = input(\"Set a password for message: \")\n",
        "\n",
        "# Encode and save\n",
        "encoded = encode_lsb(img.copy(), message, password)\n",
        "cv2.imwrite(\"lsb_encrypted_image.png\", encoded)\n",
        "print(\"Message encoded and saved as 'lsb_encrypted_image.png'.\")\n",
        "\n",
        "# Decode\n",
        "decode = input(\"Do you want to decode the image? (yes/no): \").strip().lower()\n",
        "if decode == \"yes\":\n",
        "    img2 = cv2.imread(\"lsb_encrypted_image.png\")\n",
        "    entered_password = input(\"Enter password to decrypt: \")\n",
        "\n",
        "    try:\n",
        "        saved_password, secret = decode_lsb(img2)\n",
        "        if entered_password == saved_password:\n",
        "            print(\"Decrypted message:\", secret)\n",
        "        else:\n",
        "            print(\"Wrong password. Access denied.\")\n",
        "    except Exception as e:\n",
        "        print(\"Error:\", e)\n"
      ]
    }
  ]
}